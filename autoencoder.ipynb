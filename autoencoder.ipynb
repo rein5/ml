{
 "cells": [
  {
   "cell_type": "code",
   "execution_count": 143,
   "id": "5addde3a",
   "metadata": {},
   "outputs": [],
   "source": [
    "import torch\n",
    "from torch import nn, optim\n",
    "from torch.utils.data import DataLoader\n",
    "from torchvision import datasets\n",
    "from torchvision.transforms import ToTensor\n",
    "import matplotlib.pyplot as plt"
   ]
  },
  {
   "cell_type": "code",
   "execution_count": 163,
   "id": "e7d1c593",
   "metadata": {},
   "outputs": [],
   "source": [
    "# download training and test data from open datasets\n",
    "training_data = datasets.FashionMNIST(\n",
    "    root=\"data\", \n",
    "    train=True,\n",
    "    download=True,\n",
    "    transform=ToTensor())\n",
    "\n",
    "test_data = datasets.FashionMNIST(\n",
    "    root=\"data\", \n",
    "    train=False,\n",
    "    download=True,\n",
    "    transform=ToTensor())\n",
    "\n",
    "# create data loaders\n",
    "batch_size = 64\n",
    "train_dataloader = DataLoader(training_data,\n",
    "                             batch_size=batch_size,\n",
    "                             shuffle=True)\n",
    "test_dataloader = DataLoader(test_data,\n",
    "                            batch_size=batch_size)"
   ]
  },
  {
   "cell_type": "code",
   "execution_count": 165,
   "id": "31783bf6",
   "metadata": {},
   "outputs": [
    {
     "name": "stdout",
     "output_type": "stream",
     "text": [
      "Using cuda device\n",
      "Autoencoder(\n",
      "  (encoder): Sequential(\n",
      "    (0): Linear(in_features=784, out_features=512, bias=True)\n",
      "    (1): ReLU()\n",
      "    (2): Linear(in_features=512, out_features=128, bias=True)\n",
      "  )\n",
      "  (decoder): Sequential(\n",
      "    (0): Linear(in_features=128, out_features=512, bias=True)\n",
      "    (1): ReLU()\n",
      "    (2): Linear(in_features=512, out_features=784, bias=True)\n",
      "  )\n",
      ")\n"
     ]
    }
   ],
   "source": [
    "# get cpu or gpu device for training\n",
    "device = \"cuda\" if torch.cuda.is_available() else \"cpu\"\n",
    "print(f\"Using {device} device\")\n",
    "\n",
    "class Autoencoder(nn.Module): # input/output: flattened image\n",
    "    def __init__(self):\n",
    "        super().__init__()\n",
    "        self.encoder = nn.Sequential(\n",
    "            nn.Linear(28 * 28, 512),\n",
    "            nn.ReLU(),\n",
    "            nn.Linear(512, 128)\n",
    "        )\n",
    "        self.decoder = nn.Sequential(\n",
    "            nn.Linear(128, 512),\n",
    "            nn.ReLU(),\n",
    "            nn.Linear(512, 28*28)\n",
    "        )\n",
    "    \n",
    "    def forward(self, x):\n",
    "        x = self.encoder(x)\n",
    "        x = self.decoder(x)\n",
    "        return x\n",
    "\n",
    "model = Autoencoder().to(device)\n",
    "print(model)"
   ]
  },
  {
   "cell_type": "code",
   "execution_count": 166,
   "id": "b385495e",
   "metadata": {},
   "outputs": [],
   "source": [
    "### TRAINING\n",
    "\n",
    "loss_fn = nn.MSELoss(reduction=\"mean\") \n",
    "optimizer = optim.Adam(model.parameters(), lr=1e-3)\n",
    "\n",
    "def train(dataloader, model, loss_fn, optimizer):\n",
    "    size = len(dataloader.dataset)\n",
    "    model.train()\n",
    "    for batch, (X, _) in enumerate(dataloader):\n",
    "        X = X.view(-1, 28 * 28).to(device)\n",
    "        \n",
    "        # compute reconstruction error\n",
    "        reconstructed = model(X)\n",
    "        loss = loss_fn(reconstructed, X)\n",
    "\n",
    "        # compute grads and optimize model params\n",
    "        optimizer.zero_grad()\n",
    "        loss.backward()\n",
    "        optimizer.step()\n",
    "         \n",
    "        if batch % 100 == 0:\n",
    "            loss, current = loss.item(), batch*len(X)\n",
    "            print(f\"mean loss: {loss:>7f} [{current:>5d}/{size:>5d}]\")"
   ]
  },
  {
   "cell_type": "code",
   "execution_count": 167,
   "id": "8b9c4bbe",
   "metadata": {},
   "outputs": [],
   "source": [
    "def test(dataloader, model, loss_fn):\n",
    "    size = len(dataloader.dataset)\n",
    "    num_batches = len(dataloader)\n",
    "    model.eval()\n",
    "    test_loss = 0\n",
    "    with torch.no_grad():\n",
    "        for X, _ in dataloader:\n",
    "            X = X.view(-1, 28 * 28).to(device)\n",
    "            reconstructed = model(X)\n",
    "            test_loss += loss_fn(reconstructed, X).item()\n",
    "    test_loss /= num_batches\n",
    "    print(f\"Test Error: \\n Avg loss: {test_loss:>8f} \\n\")"
   ]
  },
  {
   "cell_type": "code",
   "execution_count": 168,
   "id": "90769a87",
   "metadata": {},
   "outputs": [
    {
     "name": "stdout",
     "output_type": "stream",
     "text": [
      "Epoch 1\n",
      "----------------------------\n",
      "mean loss: 0.177164 [    0/60000]\n",
      "mean loss: 0.025834 [ 6400/60000]\n",
      "mean loss: 0.019524 [12800/60000]\n",
      "mean loss: 0.015386 [19200/60000]\n",
      "mean loss: 0.016412 [25600/60000]\n",
      "mean loss: 0.013062 [32000/60000]\n",
      "mean loss: 0.011523 [38400/60000]\n",
      "mean loss: 0.011186 [44800/60000]\n",
      "mean loss: 0.010259 [51200/60000]\n",
      "mean loss: 0.011044 [57600/60000]\n",
      "Test Error: \n",
      " Avg loss: 0.010409 \n",
      "\n",
      "Epoch 2\n",
      "----------------------------\n",
      "mean loss: 0.010462 [    0/60000]\n",
      "mean loss: 0.010666 [ 6400/60000]\n",
      "mean loss: 0.008681 [12800/60000]\n",
      "mean loss: 0.008882 [19200/60000]\n",
      "mean loss: 0.009364 [25600/60000]\n",
      "mean loss: 0.008279 [32000/60000]\n",
      "mean loss: 0.009528 [38400/60000]\n",
      "mean loss: 0.008375 [44800/60000]\n",
      "mean loss: 0.008948 [51200/60000]\n",
      "mean loss: 0.006745 [57600/60000]\n",
      "Test Error: \n",
      " Avg loss: 0.007995 \n",
      "\n",
      "Epoch 3\n",
      "----------------------------\n",
      "mean loss: 0.007727 [    0/60000]\n",
      "mean loss: 0.007171 [ 6400/60000]\n",
      "mean loss: 0.007544 [12800/60000]\n",
      "mean loss: 0.007925 [19200/60000]\n",
      "mean loss: 0.007677 [25600/60000]\n",
      "mean loss: 0.008023 [32000/60000]\n",
      "mean loss: 0.007042 [38400/60000]\n",
      "mean loss: 0.008150 [44800/60000]\n",
      "mean loss: 0.007109 [51200/60000]\n",
      "mean loss: 0.007188 [57600/60000]\n",
      "Test Error: \n",
      " Avg loss: 0.007050 \n",
      "\n",
      "Epoch 4\n",
      "----------------------------\n",
      "mean loss: 0.007047 [    0/60000]\n",
      "mean loss: 0.008113 [ 6400/60000]\n",
      "mean loss: 0.006495 [12800/60000]\n",
      "mean loss: 0.006704 [19200/60000]\n",
      "mean loss: 0.007092 [25600/60000]\n",
      "mean loss: 0.005930 [32000/60000]\n",
      "mean loss: 0.005762 [38400/60000]\n",
      "mean loss: 0.007247 [44800/60000]\n",
      "mean loss: 0.006656 [51200/60000]\n",
      "mean loss: 0.006219 [57600/60000]\n",
      "Test Error: \n",
      " Avg loss: 0.006852 \n",
      "\n",
      "Epoch 5\n",
      "----------------------------\n",
      "mean loss: 0.006079 [    0/60000]\n",
      "mean loss: 0.006604 [ 6400/60000]\n",
      "mean loss: 0.007139 [12800/60000]\n",
      "mean loss: 0.006096 [19200/60000]\n",
      "mean loss: 0.005600 [25600/60000]\n",
      "mean loss: 0.005220 [32000/60000]\n",
      "mean loss: 0.006492 [38400/60000]\n",
      "mean loss: 0.006122 [44800/60000]\n",
      "mean loss: 0.006709 [51200/60000]\n",
      "mean loss: 0.005706 [57600/60000]\n",
      "Test Error: \n",
      " Avg loss: 0.006390 \n",
      "\n",
      "Epoch 6\n",
      "----------------------------\n",
      "mean loss: 0.005319 [    0/60000]\n",
      "mean loss: 0.006430 [ 6400/60000]\n",
      "mean loss: 0.005701 [12800/60000]\n",
      "mean loss: 0.005622 [19200/60000]\n",
      "mean loss: 0.005721 [25600/60000]\n",
      "mean loss: 0.006255 [32000/60000]\n",
      "mean loss: 0.007858 [38400/60000]\n",
      "mean loss: 0.005875 [44800/60000]\n",
      "mean loss: 0.005289 [51200/60000]\n",
      "mean loss: 0.005673 [57600/60000]\n",
      "Test Error: \n",
      " Avg loss: 0.005914 \n",
      "\n",
      "Epoch 7\n",
      "----------------------------\n",
      "mean loss: 0.005922 [    0/60000]\n",
      "mean loss: 0.005304 [ 6400/60000]\n",
      "mean loss: 0.006368 [12800/60000]\n",
      "mean loss: 0.006299 [19200/60000]\n",
      "mean loss: 0.004642 [25600/60000]\n",
      "mean loss: 0.004928 [32000/60000]\n",
      "mean loss: 0.005537 [38400/60000]\n",
      "mean loss: 0.005219 [44800/60000]\n",
      "mean loss: 0.006921 [51200/60000]\n",
      "mean loss: 0.005093 [57600/60000]\n",
      "Test Error: \n",
      " Avg loss: 0.005933 \n",
      "\n",
      "Epoch 8\n",
      "----------------------------\n",
      "mean loss: 0.005572 [    0/60000]\n",
      "mean loss: 0.004764 [ 6400/60000]\n",
      "mean loss: 0.005991 [12800/60000]\n",
      "mean loss: 0.006159 [19200/60000]\n",
      "mean loss: 0.005963 [25600/60000]\n",
      "mean loss: 0.005123 [32000/60000]\n",
      "mean loss: 0.005429 [38400/60000]\n",
      "mean loss: 0.004795 [44800/60000]\n",
      "mean loss: 0.005522 [51200/60000]\n",
      "mean loss: 0.007003 [57600/60000]\n",
      "Test Error: \n",
      " Avg loss: 0.005687 \n",
      "\n",
      "Epoch 9\n",
      "----------------------------\n",
      "mean loss: 0.005411 [    0/60000]\n",
      "mean loss: 0.005545 [ 6400/60000]\n",
      "mean loss: 0.005398 [12800/60000]\n",
      "mean loss: 0.005246 [19200/60000]\n",
      "mean loss: 0.004710 [25600/60000]\n",
      "mean loss: 0.005106 [32000/60000]\n",
      "mean loss: 0.005528 [38400/60000]\n",
      "mean loss: 0.004945 [44800/60000]\n",
      "mean loss: 0.004622 [51200/60000]\n",
      "mean loss: 0.005368 [57600/60000]\n",
      "Test Error: \n",
      " Avg loss: 0.005511 \n",
      "\n",
      "Epoch 10\n",
      "----------------------------\n",
      "mean loss: 0.005041 [    0/60000]\n",
      "mean loss: 0.005410 [ 6400/60000]\n",
      "mean loss: 0.004380 [12800/60000]\n",
      "mean loss: 0.004841 [19200/60000]\n",
      "mean loss: 0.004924 [25600/60000]\n",
      "mean loss: 0.005000 [32000/60000]\n",
      "mean loss: 0.005176 [38400/60000]\n",
      "mean loss: 0.005423 [44800/60000]\n",
      "mean loss: 0.004807 [51200/60000]\n",
      "mean loss: 0.006157 [57600/60000]\n",
      "Test Error: \n",
      " Avg loss: 0.005633 \n",
      "\n",
      "Done!\n"
     ]
    }
   ],
   "source": [
    "epochs = 10\n",
    "for t in range(epochs):\n",
    "    print(f\"Epoch {t+1}\\n----------------------------\")\n",
    "    train(train_dataloader, model, loss_fn, optimizer)\n",
    "    test(test_dataloader, model, loss_fn)\n",
    "print(\"Done!\")"
   ]
  },
  {
   "cell_type": "code",
   "execution_count": 160,
   "id": "e01c4186",
   "metadata": {},
   "outputs": [
    {
     "data": {
      "text/plain": [
       "<Figure size 640x480 with 0 Axes>"
      ]
     },
     "metadata": {},
     "output_type": "display_data"
    },
    {
     "data": {
      "image/png": "[encoded data removed]",
      "text/plain": [
       "<Figure size 640x480 with 10 Axes>"
      ]
     },
     "metadata": {},
     "output_type": "display_data"
    }
   ],
   "source": [
    "classes = [\n",
    "    \"T-shirt/top\",\n",
    "    \"Trouser\",\n",
    "    \"Pullover\",\n",
    "    \"Dress\",\n",
    "    \"Coat\",\n",
    "    \"Sandal\",\n",
    "    \"Shirt\",\n",
    "    \"Sneaker\",\n",
    "    \"Bag\",\n",
    "    \"Ankle boot\",\n",
    "]\n",
    "\n",
    "\n",
    "test_images = 5\n",
    "plt.figure()\n",
    "f, axarr = plt.subplots(2, test_images) \n",
    "axarr[0, 2].set_title(\"Original Images\")\n",
    "axarr[1, 2].set_title(\"Reconstructed Images\")\n",
    "\n",
    "model.eval()\n",
    "with torch.no_grad():\n",
    "    for i in range(test_images):\n",
    "        axarr[0][i].axis(\"off\")\n",
    "        axarr[1][i].axis(\"off\")\n",
    "\n",
    "        # original images\n",
    "        x, y = test_data[i][0], test_data[i][1]\n",
    "        axarr[0, i].imshow(x.permute(1, 2, 0)) # permute tensor to be channels last\n",
    "        # reconstructed images\n",
    "        x = x.view(-1, 28*28).to(device)\n",
    "        reconstructed = model(x).view(1, 28, 28)\n",
    "        axarr[1, i].imshow(reconstructed.to(\"cpu\").permute(1, 2, 0))"
   ]
  },
  {
   "cell_type": "code",
   "execution_count": 161,
   "id": "8a93ccb6",
   "metadata": {},
   "outputs": [
    {
     "name": "stdout",
     "output_type": "stream",
     "text": [
      "Saved PyTorch Model State to autoencoder.pth\n"
     ]
    }
   ],
   "source": [
    "torch.save(model.state_dict(), \"autoencoder.pth\")\n",
    "print(\"Saved PyTorch Model State to autoencoder.pth\")"
   ]
  },
  {
   "cell_type": "code",
   "execution_count": 162,
   "id": "379216ee",
   "metadata": {},
   "outputs": [
    {
     "data": {
      "text/plain": [
       "<All keys matched successfully>"
      ]
     },
     "execution_count": 162,
     "metadata": {},
     "output_type": "execute_result"
    }
   ],
   "source": [
    "# we need to recreate the model structure and then load the state dictionary into it\n",
    "model = Autoencoder().to(device)\n",
    "model.load_state_dict(torch.load(\"autoencoder.pth\"))"
   ]
  }
 ],
 "metadata": {
  "kernelspec": {
   "display_name": "Python 3.8.13 ('ML_py38')",
   "language": "python",
   "name": "python3"
  },
  "language_info": {
   "codemirror_mode": {
    "name": "ipython",
    "version": 3
   },
   "file_extension": ".py",
   "mimetype": "text/x-python",
   "name": "python",
   "nbconvert_exporter": "python",
   "pygments_lexer": "ipython3",
   "version": "3.8.13"
  },
  "vscode": {
   "interpreter": {
    "hash": "69fcaf0694985fd73e93891a2fa54fcde2f4cf8263647acf02173cda0c8d370c"
   }
  }
 },
 "nbformat": 4,
 "nbformat_minor": 5
}
